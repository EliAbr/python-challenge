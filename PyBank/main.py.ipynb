{
 "cells": [
  {
   "cell_type": "code",
   "execution_count": 1,
   "id": "67811b8c",
   "metadata": {},
   "outputs": [],
   "source": [
    "import csv\n",
    "\n",
    "profit_losses = []\n",
    "\n",
    "total_months = 0\n",
    "\n",
    "net_profit_loss = 0\n",
    "\n",
    "monthly_changes = []\n",
    "\n",
    "with open(\"resources/budget_data.csv\") as file:\n",
    "    budget_data = csv.reader(file)\n",
    "    header = next(budget_data) \n",
    "    for row in budget_data:\n",
    "        total_months += 1\n",
    "        net_profit_loss += int(row[1])\n",
    "        profit_losses.append(int(row[1]))"
   ]
  },
  {
   "cell_type": "code",
   "execution_count": 2,
   "id": "300481c3",
   "metadata": {},
   "outputs": [
    {
     "name": "stdout",
     "output_type": "stream",
     "text": [
      "[1088983, -354534, 276622, -728133, 852993, 563721, -535208, 632349, -173744, 950741, -785750, -1194133, -589576, -883921, 443564, 837887, 1081472, 464033, -1066544, 323846, -806551, 487053, 1128811, 791398, 739367, -197825, 666016, 589771, 489290, -471439, 120417, 175347, 855449, 605195, -235220, 347138, 298510, 163254, 1141840, 542630, 99841, 752765, -252949, 914424, 679524, 514377, 462102, 159782, 878810, -946748, 340335, 292032, 502266, 265852, 851017, -549615, 290162, 755391, 1073202, 313000, 241132, 1036589, 853904, -388932, 982952, 537759, 547784, -496214, 854181, 934719, -288531, -184383, 659541, -1149123, 355882, 662284, 518681, -748256, -910775, 951227, 898241, -729004, -112209, 516313, 607208, 382539]\n"
     ]
    }
   ],
   "source": [
    "print(profit_losses)\n",
    "        \n",
    "            "
   ]
  },
  {
   "cell_type": "code",
   "execution_count": 3,
   "id": "ab308dc1",
   "metadata": {},
   "outputs": [],
   "source": [
    "for i in (range(len(profit_losses)-1)):\n",
    "      monthly_changes.append(profit_losses[i+1] - profit_losses[i])"
   ]
  },
  {
   "cell_type": "code",
   "execution_count": 4,
   "id": "954f6edc",
   "metadata": {},
   "outputs": [],
   "source": [
    "greatest_increase = max(monthly_changes)\n",
    "greatest_decrease = min(monthly_changes)\n",
    "average_change = sum(monthly_changes) / len(monthly_changes)"
   ]
  },
  {
   "cell_type": "code",
   "execution_count": 5,
   "id": "d4f4e901",
   "metadata": {},
   "outputs": [
    {
     "name": "stdout",
     "output_type": "stream",
     "text": [
      "Financial Analysis\n",
      "------------------------------\n",
      "Total Months: 86\n",
      "Total: $22564198\n",
      "Average Change: $-8311.105882352942\n",
      "Greatest Increase in Profits: 1862002\n",
      "Greatest Decrease in Profits: -1825558\n"
     ]
    }
   ],
   "source": [
    "print(\"Financial Analysis\")\n",
    "print(\"------------------------------\")\n",
    "print(f\"Total Months: {total_months}\")\n",
    "print(f\"Total: ${net_profit_loss}\")\n",
    "print(f\"Average Change: ${average_change}\")\n",
    "print(f\"Greatest Increase in Profits: {greatest_increase}\")\n",
    "print(f\"Greatest Decrease in Profits: {greatest_decrease}\")      "
   ]
  },
  {
   "cell_type": "code",
   "execution_count": 12,
   "id": "1912615e",
   "metadata": {},
   "outputs": [],
   "source": [
    "output =  (\n",
    "    f\"Financial Analysis\\n\"\n",
    "    f\"----------------------------\\n\"\n",
    "    f\"Total Months: {total_months}\\n\"\n",
    "    f\"Total: ${net_profit_loss}\\n\"\n",
    "    f\"Average Change: ${average_change}\\n\"\n",
    "    f\"Greatest Increase in Profits: {greatest_increase}\\n\"\n",
    "    f\"Greatest Decrease in Profits: {greatest_decrease}\\n\"\n",
    "    )\n",
    "    \n",
    "    \n"
   ]
  },
  {
   "cell_type": "code",
   "execution_count": 13,
   "id": "a0c8758b",
   "metadata": {
    "scrolled": true
   },
   "outputs": [
    {
     "ename": "NameError",
     "evalue": "name 'os' is not defined",
     "output_type": "error",
     "traceback": [
      "\u001b[1;31m---------------------------------------------------------------------------\u001b[0m",
      "\u001b[1;31mNameError\u001b[0m                                 Traceback (most recent call last)",
      "Cell \u001b[1;32mIn[13], line 1\u001b[0m\n\u001b[1;32m----> 1\u001b[0m output_file \u001b[38;5;241m=\u001b[39m \u001b[43mos\u001b[49m\u001b[38;5;241m.\u001b[39mpath\u001b[38;5;241m.\u001b[39mjoin(\u001b[38;5;124m\"\u001b[39m\u001b[38;5;124mbudget_analysis.txt\u001b[39m\u001b[38;5;124m\"\u001b[39m)\n",
      "\u001b[1;31mNameError\u001b[0m: name 'os' is not defined"
     ]
    }
   ],
   "source": [
    "output_file = os.path.join(\"budget_analysis.txt\")"
   ]
  },
  {
   "cell_type": "code",
   "execution_count": 14,
   "id": "57443cbb",
   "metadata": {},
   "outputs": [],
   "source": [
    "with open(\"budget_analysis.txt\",'w') as output_file:\n",
    "       output_file.write(output)\n",
    "    "
   ]
  },
  {
   "cell_type": "code",
   "execution_count": 9,
   "id": "ef40cf51",
   "metadata": {},
   "outputs": [
    {
     "name": "stdout",
     "output_type": "stream",
     "text": [
      "<_io.TextIOWrapper name='budget_analysis.txt' mode='w' encoding='cp1252'>\n"
     ]
    }
   ],
   "source": [
    "print(output_file)"
   ]
  },
  {
   "cell_type": "code",
   "execution_count": null,
   "id": "8b872a84",
   "metadata": {},
   "outputs": [],
   "source": []
  }
 ],
 "metadata": {
  "kernelspec": {
   "display_name": "Python 3 (ipykernel)",
   "language": "python",
   "name": "python3"
  },
  "language_info": {
   "codemirror_mode": {
    "name": "ipython",
    "version": 3
   },
   "file_extension": ".py",
   "mimetype": "text/x-python",
   "name": "python",
   "nbconvert_exporter": "python",
   "pygments_lexer": "ipython3",
   "version": "3.10.9"
  }
 },
 "nbformat": 4,
 "nbformat_minor": 5
}
