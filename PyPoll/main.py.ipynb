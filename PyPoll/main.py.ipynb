{
 "cells": [
  {
   "cell_type": "code",
   "execution_count": 27,
   "id": "ed3946cc",
   "metadata": {},
   "outputs": [],
   "source": [
    "import os\n",
    "\n",
    "import csv\n",
    "\n",
    "total_votes = 0\n",
    "\n",
    "candidate_votes = {}\n",
    "\n",
    "candidate_percentages = {}\n",
    "\n",
    "winner_votes = 0\n",
    "\n",
    "with open(\"resources/election_data.csv\") as file:\n",
    "    election_data = csv.reader(file)\n",
    "    header = next(election_data) \n",
    "    for row in election_data:\n",
    "        total_votes += 1\n",
    "        candidate = row[2]\n",
    "        \n",
    "        if candidate in candidate_votes:\n",
    "            candidate_votes[candidate] += 1\n",
    "            \n",
    "        else: candidate_votes[candidate] = 1\n",
    "            \n",
    "    for candidate in candidate_votes:\n",
    "        percentage = candidate_votes[candidate] / total_votes * 100\n",
    "        candidate_percentages[candidate] = percentage \n",
    "        \n",
    "    winner = max(candidate_votes, key=candidate_votes.get)"
   ]
  },
  {
   "cell_type": "code",
   "execution_count": 28,
   "id": "c462ed4e",
   "metadata": {
    "scrolled": true
   },
   "outputs": [
    {
     "name": "stdout",
     "output_type": "stream",
     "text": [
      "Election Results\n",
      "------------------------\n",
      "Total Votes: 369711\n",
      "------------------------\n",
      "Charles Casper Stockham: 23.049% (85213)\n",
      "Diana DeGette: 73.812% (272892)\n",
      "Raymon Anthony Doane: 3.139% (11606)\n",
      "Winner: Diana DeGette\n",
      "------------------------\n"
     ]
    }
   ],
   "source": [
    "print(\"Election Results\")\n",
    "print(\"------------------------\")\n",
    "print(f\"Total Votes: {total_votes}\")\n",
    "print(\"------------------------\")\n",
    "for candidate in candidate_votes:\n",
    "    print(f\"{candidate}: {candidate_percentages[candidate]:.3f}% ({candidate_votes[candidate]})\")\n",
    "print(f\"Winner: {winner}\")\n",
    "print(\"------------------------\")"
   ]
  },
  {
   "cell_type": "code",
   "execution_count": 34,
   "id": "faf0b58c",
   "metadata": {},
   "outputs": [
    {
     "name": "stdout",
     "output_type": "stream",
     "text": [
      "Election Results\n",
      "-----------------------\n",
      "Total Votes: 369711\n",
      "Charles Casper Stockham: 23.049% (85213) \n",
      "Diana DeGette: 73.812% (272892) \n",
      "Raymon Anthony Doane: 3.139% (11606) \n",
      "------------------------\n",
      "Winner: Diana DeGette\n",
      "\n"
     ]
    }
   ],
   "source": [
    "string_output =  f\"Election Results\\n\" + \\\n",
    "    f\"-----------------------\\n\" + \\\n",
    "    f\"Total Votes: {total_votes}\\n\"\n",
    "       \n",
    "for candidate in candidate_votes:\n",
    "    string_output += f\"{candidate}: {candidate_percentages[candidate]:.3f}% ({candidate_votes[candidate]}) \\n\"\n",
    "    \n",
    "string_output += f\"------------------------\\n\" + \\\n",
    "                f\"Winner: {winner}\\n\"\n",
    "\n",
    "print(string_output)"
   ]
  },
  {
   "cell_type": "code",
   "execution_count": 35,
   "id": "7bf6d9ab",
   "metadata": {},
   "outputs": [],
   "source": [
    "output = (string_output)"
   ]
  },
  {
   "cell_type": "code",
   "execution_count": 36,
   "id": "46421fff",
   "metadata": {},
   "outputs": [],
   "source": [
    "output_file = os.path.join(\"election_data.txt\")"
   ]
  },
  {
   "cell_type": "code",
   "execution_count": 37,
   "id": "656ce0fe",
   "metadata": {},
   "outputs": [],
   "source": [
    "with open(\"election_data.txt\", 'w') as output_file:\n",
    "    output_file.write(output)"
   ]
  },
  {
   "cell_type": "code",
   "execution_count": 38,
   "id": "b25bc0bf",
   "metadata": {},
   "outputs": [
    {
     "name": "stdout",
     "output_type": "stream",
     "text": [
      "<_io.TextIOWrapper name='election_data.txt' mode='w' encoding='cp1252'>\n"
     ]
    }
   ],
   "source": [
    "print(output_file)"
   ]
  },
  {
   "cell_type": "code",
   "execution_count": null,
   "id": "f9470ed5",
   "metadata": {},
   "outputs": [],
   "source": []
  }
 ],
 "metadata": {
  "kernelspec": {
   "display_name": "Python 3 (ipykernel)",
   "language": "python",
   "name": "python3"
  },
  "language_info": {
   "codemirror_mode": {
    "name": "ipython",
    "version": 3
   },
   "file_extension": ".py",
   "mimetype": "text/x-python",
   "name": "python",
   "nbconvert_exporter": "python",
   "pygments_lexer": "ipython3",
   "version": "3.10.9"
  }
 },
 "nbformat": 4,
 "nbformat_minor": 5
}
